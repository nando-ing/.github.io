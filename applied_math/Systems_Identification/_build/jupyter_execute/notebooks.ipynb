{
 "cells": [
  {
   "cell_type": "markdown",
   "metadata": {},
   "source": [
    "# Introduction to Systems Identification\n",
    "\n",
    "In this notebook, I will explain how can we use data to find a model that \n",
    "describes somehow the process which generated that same data. For example, \n",
    "suppose we have a DC(Direct Current) Motor, but we don't know the parameters\n",
    "which characterizes it, such as coupling factor, coil resistance and Inertial\n",
    "moment.\n",
    "\n",
    "We would like to know how the motor behaves as we change its inputs, that is,\n",
    "the voltage on its coils. In other words, we can say we are interested in \n",
    "describing the motor dynamics.\n",
    "\n",
    "In order to achieve this goal, we could do the following approach to obtain a \n",
    "model describing the motor behavior:\n",
    "\n",
    "1. Put an encoder sensor in the motors rotor, so we can know the angular\n",
    "velocity in which the rotor turns.\n",
    "\n",
    "2. Put a sensor to measure the motor input voltage \n",
    "$u:\\mathbb{R}^+ \\to I$, where $I = [V_{min}, V_{max}]$, so we can know the input\n",
    "at each given time.\n",
    "\n",
    "3. Use the input and output captured to infer the system dynamics. In other words,\n",
    "to find the transformation.\n",
    "$\\mathcal{T}: \\mathcal{F}(\\mathbb{R}^+,I) \\to \\mathcal{F}(\\mathbb{R}^+,\\mathbb{R})$\n",
    "\n",
    "There are several ways one can proceed to achieve our goal.\n",
    "\n",
    "For example, we could just try to fit a linear model of order $n$, and if the system\n",
    "is nonlinear, we could try a generic nonlinear method. However, in this case, \n",
    "we can proceed differently, incorporating more prior knowledge to our model.\n",
    "\n",
    "Note that we already know from the eletromecanical equations that we have a\n",
    "second order differential equation, so we can just fit our model to a second\n",
    "order differential equations, finding the parameters that best suits our system.\n",
    "\n",
    "This approach I just described is called _parameter estimation_, since we have\n",
    "already a prior structure to the model and we just want to find its best \n",
    "parameters."
   ]
  }
 ],
 "metadata": {
  "interpreter": {
   "hash": "e9cdb2bfe1b4ce14d1346638dce2451e5222bdf6346addcbdc5942e8c84e4095"
  },
  "kernelspec": {
   "display_name": "Julia 1.6.0",
   "language": "python",
   "name": "python3"
  },
  "language_info": {
   "codemirror_mode": {
    "name": "ipython",
    "version": 3
   },
   "file_extension": ".py",
   "mimetype": "text/x-python",
   "name": "python",
   "nbconvert_exporter": "python",
   "pygments_lexer": "ipython3",
   "version": "3.8.10"
  }
 },
 "nbformat": 4,
 "nbformat_minor": 2
}